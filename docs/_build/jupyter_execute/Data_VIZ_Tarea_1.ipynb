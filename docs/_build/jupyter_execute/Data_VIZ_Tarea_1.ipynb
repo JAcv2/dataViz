{
 "cells": [
  {
   "cell_type": "markdown",
   "metadata": {},
   "source": [
    "# Tarea"
   ]
  },
  {
   "cell_type": "markdown",
   "metadata": {},
   "source": [
    "## Punto 1"
   ]
  },
  {
   "cell_type": "markdown",
   "metadata": {},
   "source": [
    "El siguiente informe debe ser presentado usando Jupyter Book. Por lo tanto, la entrega realizada corresponde a un link de una página de GitHub similar a la del presente curso. Debe crear una conexión con pgAdmin para mostrar las tablas creadas, agregar imágenes."
   ]
  },
  {
   "cell_type": "markdown",
   "metadata": {},
   "source": [
    "## Punto 2"
   ]
  },
  {
   "cell_type": "markdown",
   "metadata": {},
   "source": [
    "Crear una instancia de base de datos en Docker la cual utilizará para la solución de los siguientes ejercicios. Luego de finalizar con cada una de las consultas requeridas, deberá exportar la imagen de la base de datos a un archivo nombrado como, primernombre_primerapellido_imagendocker.tar, ejemplo: lihki_rubio_imagendocker.tar."
   ]
  },
  {
   "cell_type": "markdown",
   "metadata": {},
   "source": [
    "## Punto 3"
   ]
  },
  {
   "cell_type": "markdown",
   "metadata": {},
   "source": [
    "La imagen Docker y la base de datos que debe crear debe contar con la siguiente información de conexión. Nótese que debe usar la contraseña password.\n",
    "\n",
    "Host: localhost\n",
    "\n",
    "Port: 5342\n",
    "\n",
    "Database Name: myname_db\n",
    "\n",
    "User Name: myname_user\n",
    "\n",
    "Password: password"
   ]
  },
  {
   "cell_type": "markdown",
   "metadata": {},
   "source": [
    "## Punto 4"
   ]
  },
  {
   "cell_type": "markdown",
   "metadata": {},
   "source": [
    "Cada una de las siguientes consultas deben ser realizadas desde Python usando la API psycopg2. Por lo tanto, debe crear una conexión y un cursor previamente para realizar cada una de las siguientes consultas:"
   ]
  },
  {
   "cell_type": "code",
   "execution_count": 1,
   "metadata": {},
   "outputs": [],
   "source": [
    "import psycopg2\n",
    "from psycopg2 import Error"
   ]
  },
  {
   "cell_type": "code",
   "execution_count": 2,
   "metadata": {},
   "outputs": [
    {
     "name": "stdout",
     "output_type": "stream",
     "text": [
      "PostgreSQL server information\n",
      "{'user': 'julian_acevedo_user', 'channel_binding': 'prefer', 'dbname': 'julian_acevedo_db', 'host': 'localhost', 'port': '5432', 'options': '', 'sslmode': 'prefer', 'sslcompression': '0', 'sslcertmode': 'allow', 'sslsni': '1', 'ssl_min_protocol_version': 'TLSv1.2', 'gssencmode': 'disable', 'krbsrvname': 'postgres', 'gssdelegation': '0', 'target_session_attrs': 'any', 'load_balance_hosts': 'disable'} \n",
      "\n",
      "You are connected to -  ('PostgreSQL 16.0 (Debian 16.0-1.pgdg120+1) on x86_64-pc-linux-gnu, compiled by gcc (Debian 12.2.0-14) 12.2.0, 64-bit',) \n",
      "\n",
      "PostgreSQL connection is closed\n"
     ]
    }
   ],
   "source": [
    "try:\n",
    "    connection = psycopg2.connect(database=\"julian_acevedo_db\",  \n",
    "                                    user=\"julian_acevedo_user\", \n",
    "                                    password=\"password\", \n",
    "                                    host=\"localhost\", \n",
    "                                    port=\"5432\"\n",
    "                                )\n",
    "\n",
    "    cursor = connection.cursor()\n",
    "    print(\"PostgreSQL server information\")\n",
    "    print(connection.get_dsn_parameters(), \"\\n\")\n",
    "\n",
    "    cursor.execute(\"SELECT version();\")\n",
    "    record = cursor.fetchone()\n",
    "    print(\"You are connected to - \", record, \"\\n\")\n",
    "\n",
    "except (Exception, Error) as error:\n",
    "    print(\"Error while connecting to PostgreSQL\", error)\n",
    "finally:\n",
    "    if (connection):\n",
    "        cursor.close()\n",
    "        connection.close()\n",
    "        print(\"PostgreSQL connection is closed\")"
   ]
  },
  {
   "cell_type": "markdown",
   "metadata": {},
   "source": [
    "### Punto 4.1."
   ]
  },
  {
   "cell_type": "markdown",
   "metadata": {},
   "source": [
    "Crear la tabla nombrada: employees y explicar que tarea realiza la consulta realizada y mostrar en pantalla la tabla"
   ]
  },
  {
   "cell_type": "code",
   "execution_count": 3,
   "metadata": {},
   "outputs": [
    {
     "name": "stdout",
     "output_type": "stream",
     "text": [
      "Table created successfully\n"
     ]
    }
   ],
   "source": [
    "import psycopg2\n",
    "\n",
    "connection = psycopg2.connect(database=\"julian_acevedo_db\",  \n",
    "                                    user=\"julian_acevedo_user\", \n",
    "                                    password=\"password\", \n",
    "                                    host=\"localhost\", \n",
    "                                    port=\"5432\"\n",
    "                                )\n",
    "cursor = connection.cursor()\n",
    "\n",
    "cursor.execute('''DROP TABLE IF EXISTS employees''')\n",
    "cursor.execute('''CREATE TABLE employees\n",
    "                ( employee_id INTEGER\n",
    "                , first_name VARCHAR(20)\n",
    "                , last_name VARCHAR(25)\n",
    "                , email VARCHAR(25)\n",
    "                , phone_number VARCHAR(20)\n",
    "                , hire_date DATE\n",
    "                , job_id VARCHAR(10)\n",
    "                , salary NUMERIC(8,2)\n",
    "                , commission_pct NUMERIC(2,2)\n",
    "                , manager_id INTEGER\n",
    "                , department_id INTEGER\n",
    "                ) ;\n",
    "''')\n",
    "cursor.execute('''CREATE UNIQUE INDEX emp_emp_id_pk\n",
    "               ON employees (employee_id) ;''')\n",
    "cursor.execute('''ALTER TABLE employees ADD PRIMARY KEY (employee_id);''')\n",
    "print(\"Table created successfully\")\n",
    "\n",
    "connection.commit()\n",
    "connection.close()"
   ]
  },
  {
   "cell_type": "code",
   "execution_count": 4,
   "metadata": {},
   "outputs": [],
   "source": [
    "import psycopg2\n",
    "\n",
    "connection = psycopg2.connect(database=\"julian_acevedo_db\",  \n",
    "                                    user=\"julian_acevedo_user\", \n",
    "                                    password=\"password\", \n",
    "                                    host=\"localhost\", \n",
    "                                    port=\"5432\"\n",
    "                                )\n",
    "cursor = connection.cursor()\n",
    "\n",
    "cursor.execute('''SELECT * FROM employees LIMIT 10;''')\n",
    "cursor.execute('''SELECT count(1) FROM employees;''')"
   ]
  },
  {
   "cell_type": "code",
   "execution_count": 5,
   "metadata": {},
   "outputs": [
    {
     "name": "stdout",
     "output_type": "stream",
     "text": [
      "None\n"
     ]
    }
   ],
   "source": [
    "#cursor.execute(\"INSERT INTO employees (first_name) VALUES ('Julian')\");\n",
    "test=cursor.execute('''SELECT * FROM employees LIMIT 10;\n",
    "SELECT count(1) FROM employees;''')\n",
    "print(test)"
   ]
  },
  {
   "cell_type": "markdown",
   "metadata": {},
   "source": [
    "### Punto 4.2."
   ]
  },
  {
   "cell_type": "markdown",
   "metadata": {},
   "source": [
    "Crear la tabla courses con las siguientes columnas:"
   ]
  },
  {
   "cell_type": "code",
   "execution_count": 6,
   "metadata": {},
   "outputs": [
    {
     "name": "stdout",
     "output_type": "stream",
     "text": [
      "Table created successfully\n"
     ]
    }
   ],
   "source": [
    "import psycopg2\n",
    "\n",
    "connection = psycopg2.connect(database=\"julian_acevedo_db\",  \n",
    "                                    user=\"julian_acevedo_user\", \n",
    "                                    password=\"password\", \n",
    "                                    host=\"localhost\", \n",
    "                                    port=\"5432\"\n",
    "                                )\n",
    "cursor = connection.cursor()\n",
    "\n",
    "cursor.execute('''DROP TABLE IF EXISTS courses''')\n",
    "cursor.execute('''CREATE TABLE courses\n",
    "                ( course_id SERIAL PRIMARY KEY\n",
    "                , course_name VARCHAR(60)\n",
    "                , course_author VARCHAR(40)\n",
    "                , course_status VARCHAR(10)\n",
    "                , course_published_dt DATE\n",
    "                ) ;\n",
    "''')\n",
    "\n",
    "print(\"Table created successfully\")\n",
    "\n",
    "connection.commit()\n",
    "connection.close()"
   ]
  },
  {
   "cell_type": "markdown",
   "metadata": {},
   "source": [
    "### Punto 4.3."
   ]
  },
  {
   "cell_type": "markdown",
   "metadata": {},
   "source": [
    "Inserte los datos en courses utilizando los datos proporcionados. Asegúrese de que el id es generado por el sistema. No olvide refrescar la información de la base de datos."
   ]
  },
  {
   "cell_type": "code",
   "execution_count": 7,
   "metadata": {},
   "outputs": [
    {
     "name": "stdout",
     "output_type": "stream",
     "text": [
      "Records created successfully\n"
     ]
    }
   ],
   "source": [
    "import psycopg2\n",
    "\n",
    "connection = psycopg2.connect(database=\"julian_acevedo_db\",  \n",
    "                                    user=\"julian_acevedo_user\", \n",
    "                                    password=\"password\", \n",
    "                                    host=\"localhost\", \n",
    "                                    port=\"5432\"\n",
    "                                )\n",
    "cursor = connection.cursor()\n",
    "\n",
    "cursor.execute(\"INSERT INTO courses (course_name, course_author, course_status, course_published_dt) VALUES ('Programming using Python', 'Bob Dillon', 'published', '2020-09-30')\");\n",
    "cursor.execute(\"INSERT INTO courses (course_name, course_author, course_status, course_published_dt) VALUES ('Data Engineering using Python', 'Bob Dillon', 'published', '2020-07-15')\");\n",
    "cursor.execute(\"INSERT INTO courses (course_name, course_author, course_status) VALUES ('Data Engineering using Scala', 'Elvis Presly', 'draft')\");\n",
    "cursor.execute(\"INSERT INTO courses (course_name, course_author, course_status, course_published_dt) VALUES ('Programming using Scala', 'Elvis Presly', 'published','2020-05-12')\");\n",
    "cursor.execute(\"INSERT INTO courses (course_name, course_author, course_status, course_published_dt) VALUES ('Programming using Java', 'Mike Jack', 'inactive', '2020-08-10')\");\n",
    "cursor.execute(\"INSERT INTO courses (course_name, course_author, course_status, course_published_dt) VALUES ('Web Applications-Python Flask', 'Bob Dillon', 'inactive', '2020-07-20')\");\n",
    "cursor.execute(\"INSERT INTO courses (course_name, course_author, course_status) VALUES ('Web Applications-Java Spring', 'Mike Jack', 'draft')\");\n",
    "cursor.execute(\"INSERT INTO courses (course_name, course_author, course_status) VALUES ('Pipeline Orchestraction-Python', 'Bob Dillon', 'draft')\");\n",
    "cursor.execute(\"INSERT INTO courses (course_name, course_author, course_status, course_published_dt) VALUES ('Streaming Pipelines-Python', 'Bob Dillon', 'published','2020-10-05')\");\n",
    "cursor.execute(\"INSERT INTO courses (course_name, course_author, course_status, course_published_dt) VALUES ('Web Applications Scala Play', 'Elvis Presly', 'inactive','2020-09-30')\");\n",
    "cursor.execute(\"INSERT INTO courses (course_name, course_author, course_status, course_published_dt) VALUES ('Web Application-Python Django', 'Bob Dillon', 'published','2020-06-23')\");\n",
    "cursor.execute(\"INSERT INTO courses (course_name, course_author, course_status, course_published_dt) VALUES ('Server Automation-Ansible', 'Uncle Sam', 'published','2020-07-05')\");\n",
    "\n",
    "connection.commit()\n",
    "print(\"Records created successfully\")\n",
    "connection.close()"
   ]
  },
  {
   "cell_type": "markdown",
   "metadata": {},
   "source": [
    "### Punto 4.4."
   ]
  },
  {
   "cell_type": "markdown",
   "metadata": {},
   "source": [
    "Borre todos los cursos que no estén en modo borrador ni publicados. Proporcione la sentencia de borrado como respuesta para este ejercicio en el Jupyter Book. Para validar, obtenga el recuento de todos los cursos publicados por autor y asegúrese de que la salida está ordenada en forma descendente por recuento."
   ]
  },
  {
   "cell_type": "code",
   "execution_count": 8,
   "metadata": {},
   "outputs": [
    {
     "name": "stdout",
     "output_type": "stream",
     "text": [
      "Total number of rows deleted : 3\n",
      "Operation done successfully\n"
     ]
    }
   ],
   "source": [
    "import psycopg2\n",
    "\n",
    "connection = psycopg2.connect(database=\"julian_acevedo_db\",  \n",
    "                                    user=\"julian_acevedo_user\", \n",
    "                                    password=\"password\", \n",
    "                                    host=\"localhost\", \n",
    "                                    port=\"5432\"\n",
    "                                )\n",
    "cursor = connection.cursor()\n",
    "\n",
    "cursor.execute(\"DELETE \\\n",
    "                FROM courses \\\n",
    "                WHERE course_status ='inactive'\" )\n",
    "connection.commit()\n",
    "print(\"Total number of rows deleted :\", cursor.rowcount)\n",
    "#rows = cursor.fetchall()\n",
    "\n",
    "# for row in rows:\n",
    "#     print(\"id = \", row[0])\n",
    "#     print(\"name = \", row[1])\n",
    "#     print(\"address = \", row[2])\n",
    "#     print(\"salary = \", row[3], \"\\n\")\n",
    "\n",
    "print(\"Operation done successfully\")\n",
    "connection.close()"
   ]
  },
  {
   "cell_type": "code",
   "execution_count": 9,
   "metadata": {},
   "outputs": [
    {
     "name": "stdout",
     "output_type": "stream",
     "text": [
      "Courses by author:\n",
      "Author: Bob Dillon, Count: 5\n",
      "Author: Elvis Presly, Count: 2\n",
      "Author: Mike Jack, Count: 1\n",
      "Author: Uncle Sam, Count: 1\n"
     ]
    }
   ],
   "source": [
    "import psycopg2\n",
    "\n",
    "connection = psycopg2.connect(database=\"julian_acevedo_db\",  \n",
    "                                    user=\"julian_acevedo_user\", \n",
    "                                    password=\"password\", \n",
    "                                    host=\"localhost\", \n",
    "                                    port=\"5432\"\n",
    "                                )\n",
    "cursor = connection.cursor()\n",
    "\n",
    "cursor.execute('''SELECT course_author, COUNT(*) \n",
    "                FROM courses\n",
    "                GROUP BY course_author\n",
    "                ORDER BY course_author ASC''')\n",
    "rows = cursor.fetchall()\n",
    "print(\"Courses by author:\")\n",
    "for row in rows:\n",
    "    author = row[0]\n",
    "    count = row[1]\n",
    "    print(f\"Author: {author}, Count: {count}\")"
   ]
  },
  {
   "cell_type": "markdown",
   "metadata": {},
   "source": [
    "### Punto 4.5."
   ]
  },
  {
   "cell_type": "markdown",
   "metadata": {},
   "source": [
    "Crear la base de datos users"
   ]
  },
  {
   "cell_type": "code",
   "execution_count": 10,
   "metadata": {},
   "outputs": [
    {
     "name": "stdout",
     "output_type": "stream",
     "text": [
      "Table created successfully\n"
     ]
    }
   ],
   "source": [
    "import psycopg2\n",
    "\n",
    "connection = psycopg2.connect(database=\"julian_acevedo_db\",  \n",
    "                                    user=\"julian_acevedo_user\", \n",
    "                                    password=\"password\", \n",
    "                                    host=\"localhost\", \n",
    "                                    port=\"5432\"\n",
    "                                )\n",
    "cursor = connection.cursor()\n",
    "\n",
    "cursor.execute('''DROP TABLE IF EXISTS users''')\n",
    "cursor.execute('''CREATE TABLE users\n",
    "                ( user_id SERIAL PRIMARY KEY,\n",
    "                  user_first_name VARCHAR(30),\n",
    "                  user_last_name VARCHAR(30),\n",
    "                  user_email_id VARCHAR(50),\n",
    "                  user_gender VARCHAR(1),\n",
    "                  user_unique_id VARCHAR(15),\n",
    "                  user_phone_no VARCHAR(20),\n",
    "                  user_dob DATE,\n",
    "                  created_ts TIMESTAMP\n",
    "                ) ;\n",
    "''')\n",
    "\n",
    "print(\"Table created successfully\")\n",
    "\n",
    "connection.commit()\n",
    "connection.close()"
   ]
  },
  {
   "cell_type": "markdown",
   "metadata": {},
   "source": [
    "Inserte los siguientes valores"
   ]
  },
  {
   "cell_type": "code",
   "execution_count": 11,
   "metadata": {},
   "outputs": [
    {
     "name": "stdout",
     "output_type": "stream",
     "text": [
      "Records created successfully\n"
     ]
    }
   ],
   "source": [
    "import psycopg2\n",
    "\n",
    "connection = psycopg2.connect(database=\"julian_acevedo_db\",  \n",
    "                                    user=\"julian_acevedo_user\", \n",
    "                                    password=\"password\", \n",
    "                                    host=\"localhost\", \n",
    "                                    port=\"5432\"\n",
    "                                )\n",
    "cursor = connection.cursor()\n",
    "\n",
    "cursor.execute('''insert into users (\n",
    "    user_first_name, user_last_name, user_email_id, user_gender, \n",
    "    user_unique_id, user_phone_no, user_dob, created_ts\n",
    ") VALUES\n",
    "    ('Giuseppe', 'Bode', 'gbode0@imgur.com', 'M', '88833-8759', \n",
    "     '+86 (764) 443-1967', '1973-05-31', '2018-04-15 12:13:38'),\n",
    "    ('Lexy', 'Gisbey', 'lgisbey1@mail.ru', 'F', '262501-029', \n",
    "     '+86 (751) 160-3742', '2003-05-31', '2020-12-29 06:44:09'),\n",
    "    ('Karel', 'Claringbold', 'kclaringbold2@yale.edu', 'F', '391-33-2823', \n",
    "     '+62 (445) 471-2682', '1985-11-28', '2018-11-19 00:04:08'),\n",
    "    ('Marv', 'Tanswill', 'mtanswill3@dedecms.com', 'F', '1195413-80', \n",
    "     '+62 (497) 736-6802', '1998-05-24', '2018-11-19 16:29:43'),\n",
    "    ('Gertie', 'Espinoza', 'gespinoza4@nationalgeographic.com', 'M', '471-24-6869', \n",
    "     '+249 (687) 506-2960', '1997-10-30', '2020-01-25 21:31:10'),\n",
    "    ('Saleem', 'Danneil', 'sdanneil5@guardian.co.uk', 'F', '192374-933', \n",
    "     '+63 (810) 321-0331', '1992-03-08', '2020-11-07 19:01:14'),\n",
    "    ('Rickert', 'O''Shiels', 'roshiels6@wikispaces.com', 'M', '749-27-47-52', \n",
    "     '+86 (184) 759-3933', '1972-11-01', '2018-03-20 10:53:24'),\n",
    "    ('Cybil', 'Lissimore', 'clissimore7@pinterest.com', 'M', '461-75-4198', \n",
    "     '+54 (613) 939-6976', '1978-03-03', '2019-12-09 14:08:30'),\n",
    "    ('Melita', 'Rimington', 'mrimington8@mozilla.org', 'F', '892-36-676-2', \n",
    "     '+48 (322) 829-8638', '1995-12-15', '2018-04-03 04:21:33'),\n",
    "    ('Benetta', 'Nana', 'bnana9@google.com', 'M', '197-54-1646', \n",
    "     '+420 (934) 611-0020', '1971-12-07', '2018-10-17 21:02:51'),\n",
    "    ('Gregorius', 'Gullane', 'ggullanea@prnewswire.com', 'F', '232-55-52-58', \n",
    "     '+62 (780) 859-1578', '1973-09-18', '2020-01-14 23:38:53'),\n",
    "    ('Una', 'Glayzer', 'uglayzerb@pinterest.com', 'M', '898-84-336-6', \n",
    "     '+380 (840) 437-3981', '1983-05-26', '2019-09-17 03:24:21'),\n",
    "    ('Jamie', 'Vosper', 'jvosperc@umich.edu', 'M', '247-95-68-44', \n",
    "     '+81 (205) 723-1942', '1972-03-18', '2020-07-23 16:39:33'),\n",
    "    ('Calley', 'Tilson', 'ctilsond@issuu.com', 'F', '415-48-894-3', \n",
    "     '+229 (698) 777-4904', '1987-06-12', '2020-06-05 12:10:50'),\n",
    "    ('Peadar', 'Gregorowicz', 'pgregorowicze@omniture.com', 'M', '403-39-5-869', \n",
    "     '+7 (267) 853-3262', '1996-09-21', '2018-05-29 23:51:31'),\n",
    "    ('Jeanie', 'Webling', 'jweblingf@booking.com', 'F', '399-83-05-03', \n",
    "     '+351 (684) 413-0550', '1994-12-27', '2018-02-09 01:31:11'),\n",
    "    ('Yankee', 'Jelf', 'yjelfg@wufoo.com', 'F', '607-99-0411', \n",
    "     '+1 (864) 112-7432', '1988-11-13', '2019-09-16 16:09:12'),\n",
    "    ('Blair', 'Aumerle', 'baumerleh@toplist.cz', 'F', '430-01-578-5', \n",
    "     '+7 (393) 232-1860', '1979-11-09', '2018-10-28 19:25:35'),\n",
    "    ('Pavlov', 'Steljes', 'psteljesi@macromedia.com', 'F', '571-09-6181', \n",
    "     '+598 (877) 881-3236', '1991-06-24', '2020-09-18 05:34:31'),\n",
    "    ('Darn', 'Hadeke', 'dhadekej@last.fm', 'M', '478-32-02-87', \n",
    "     '+370 (347) 110-4270', '1984-09-04', '2018-02-10 12:56:00'),\n",
    "    ('Wendell', 'Spanton', 'wspantonk@de.vu', 'F', null, \n",
    "     '+84 (301) 762-1316', '1973-07-24', '2018-01-30 01:20:11'),\n",
    "    ('Carlo', 'Yearby', 'cyearbyl@comcast.net', 'F', null, \n",
    "     '+55 (288) 623-4067', '1974-11-11', '2018-06-24 03:18:40'),\n",
    "    ('Sheila', 'Evitts', 'sevittsm@webmd.com', null, '830-40-5287',\n",
    "     null, '1977-03-01', '2020-07-20 09:59:41'),\n",
    "    ('Sianna', 'Lowdham', 'slowdhamn@stanford.edu', null, '778-0845', \n",
    "     null, '1985-12-23', '2018-06-29 02:42:49'),\n",
    "    ('Phylys', 'Aslie', 'paslieo@qq.com', 'M', '368-44-4478', \n",
    "     '+86 (765) 152-8654', '1984-03-22', '2019-10-01 01:34:28')''');\n",
    "\n",
    "connection.commit()\n",
    "print(\"Records created successfully\")\n",
    "connection.close()"
   ]
  },
  {
   "cell_type": "markdown",
   "metadata": {},
   "source": [
    "### Punto 4.6"
   ]
  },
  {
   "cell_type": "markdown",
   "metadata": {},
   "source": [
    "Obtenga el número de usuarios creados por año. Utilice la tabla de usuarios para este ejercicio."
   ]
  },
  {
   "cell_type": "markdown",
   "metadata": {},
   "source": [
    "- La salida debe contener el año de 4 dígitos y el recuento.\n",
    "\n",
    "- Use funciones específicas de fecha para obtener el año usando created_ts.\n",
    "\n",
    "- Asegúrese de definir alias a las columnas como created_year y user_count respectivamente.\n",
    "\n",
    "- Los datos deben ordenarse de forma ascendente por created_year.\n",
    "\n",
    "- Cuando ejecutes la consulta usando el entorno Jupyter, puede que tenga decimales para los enteros. Por lo tanto, puede mostrar los resultados incluso con decimales."
   ]
  },
  {
   "cell_type": "code",
   "execution_count": 12,
   "metadata": {},
   "outputs": [
    {
     "name": "stdout",
     "output_type": "stream",
     "text": [
      "Year: 2018, Count: 13\n",
      "Year: 2019, Count: 4\n",
      "Year: 2020, Count: 8\n"
     ]
    }
   ],
   "source": [
    "import psycopg2\n",
    "\n",
    "connection = psycopg2.connect(database=\"julian_acevedo_db\",  \n",
    "                                    user=\"julian_acevedo_user\", \n",
    "                                    password=\"password\", \n",
    "                                    host=\"localhost\", \n",
    "                                    port=\"5432\"\n",
    "                                )\n",
    "cursor = connection.cursor()\n",
    "\n",
    "cursor.execute('''SELECT EXTRACT(YEAR FROM created_ts) AS created_year, \n",
    "                    COUNT(*) AS user_count\n",
    "                    FROM users \n",
    "                    GROUP BY created_year\n",
    "                    ORDER BY created_year ASC\n",
    "                                ''')\n",
    "rows = cursor.fetchall()\n",
    "\n",
    "for row in rows:\n",
    "        created_year = row[0]\n",
    "        user_count = row[1]\n",
    "        print(f\"Year: {created_year}, Count: {user_count}\")\n",
    "\n",
    "connection.commit()\n",
    "connection.close()"
   ]
  },
  {
   "cell_type": "markdown",
   "metadata": {},
   "source": [
    "### Punto 4.7."
   ]
  },
  {
   "cell_type": "markdown",
   "metadata": {},
   "source": [
    "Obtenga los días de nacimiento de todos los usuarios nacidos en el mes May."
   ]
  },
  {
   "cell_type": "markdown",
   "metadata": {},
   "source": [
    "- Utilice la tabla users para este ejercicio.\n",
    "\n",
    "- La salida debe contener user_id, user_dob, user_email_id y user_day_of_birth.\n",
    "\n",
    "- Utilice funciones específicas de fecha para obtener el mes utilizando user_dob.\n",
    "\n",
    "- user_day_of_birth debe ser un día completo con el primer carácter en mayúsculas, por ejemplo Tuesday.\n",
    "\n",
    "- Los datos deben ordenarse por día dentro del mes May."
   ]
  },
  {
   "cell_type": "code",
   "execution_count": 13,
   "metadata": {},
   "outputs": [
    {
     "name": "stdout",
     "output_type": "stream",
     "text": [
      "User_id: 4, user dob: 1998-05-24, user_email_id: mtanswill3@dedecms.com, user_day_of_birth: Sunday\n",
      "User_id: 12, user dob: 1983-05-26, user_email_id: uglayzerb@pinterest.com, user_day_of_birth: Thursday\n",
      "User_id: 1, user dob: 1973-05-31, user_email_id: gbode0@imgur.com, user_day_of_birth: Thursday\n",
      "User_id: 2, user dob: 2003-05-31, user_email_id: lgisbey1@mail.ru, user_day_of_birth: Saturday\n"
     ]
    }
   ],
   "source": [
    "import psycopg2\n",
    "\n",
    "connection = psycopg2.connect(database=\"julian_acevedo_db\",  \n",
    "                                    user=\"julian_acevedo_user\", \n",
    "                                    password=\"password\", \n",
    "                                    host=\"localhost\", \n",
    "                                    port=\"5432\"\n",
    "                                )\n",
    "cursor = connection.cursor()\n",
    "\n",
    "cursor.execute('''SELECT  user_id,\n",
    "                          user_dob,\n",
    "                          user_email_id,\n",
    "                          TO_CHAR(user_dob, 'Day') AS user_day_of_birth\n",
    "                    FROM users\n",
    "                    WHERE EXTRACT(MONTH FROM user_dob) = 5\n",
    "                    ORDER BY EXTRACT(DAY FROM user_dob)''')\n",
    "\n",
    "rows = cursor.fetchall()\n",
    "\n",
    "for row in rows:\n",
    "        user_id = row[0]\n",
    "        user_dob = row[1]\n",
    "        user_email_id = row[2]\n",
    "        user_day_of_birth = row[3].strip()  # Usamos strip() para eliminar espacios en blanco que PostgreSQL agrega automáticamente\n",
    "        print(f\"User_id: {user_id}, user dob: {user_dob}, user_email_id: {user_email_id}, user_day_of_birth: {user_day_of_birth}\")\n",
    "        \n",
    "connection.commit()\n",
    "connection.close()\n"
   ]
  },
  {
   "cell_type": "markdown",
   "metadata": {},
   "source": [
    "### Punto 4.8."
   ]
  },
  {
   "cell_type": "markdown",
   "metadata": {},
   "source": [
    "Obtenga los nombres e ids de correo electrónico de los usuarios añadidos en el año 2019."
   ]
  },
  {
   "cell_type": "markdown",
   "metadata": {},
   "source": [
    "- Utilice la tabla users para este ejercicio.\n",
    "\n",
    "- La salida debe contener user_id, user_name, user_email_id, created_ts, created_year.\n",
    "\n",
    "- Utilice funciones específicas de fecha para obtener el año utilizando created_ts.\n",
    "\n",
    "- user_name es una columna derivada de concatenar user_first_name y user_last_name con un espacio en medio.\n",
    "\n",
    "- user_name debe tener valores en mayúsculas.\n",
    "\n",
    "- Los datos deben ordenarse en forma ascendente por user_name"
   ]
  },
  {
   "cell_type": "code",
   "execution_count": 14,
   "metadata": {},
   "outputs": [
    {
     "name": "stdout",
     "output_type": "stream",
     "text": [
      "User ID: 8, User Name: CYBIL LISSIMORE, Email ID: clissimore7@pinterest.com, Created Timestamp: 2019-12-09 14:08:30, Created Year: 2019\n",
      "User ID: 25, User Name: PHYLYS ASLIE, Email ID: paslieo@qq.com, Created Timestamp: 2019-10-01 01:34:28, Created Year: 2019\n",
      "User ID: 12, User Name: UNA GLAYZER, Email ID: uglayzerb@pinterest.com, Created Timestamp: 2019-09-17 03:24:21, Created Year: 2019\n",
      "User ID: 17, User Name: YANKEE JELF, Email ID: yjelfg@wufoo.com, Created Timestamp: 2019-09-16 16:09:12, Created Year: 2019\n"
     ]
    }
   ],
   "source": [
    "import psycopg2\n",
    "\n",
    "connection = psycopg2.connect(database=\"julian_acevedo_db\",  \n",
    "                                    user=\"julian_acevedo_user\", \n",
    "                                    password=\"password\", \n",
    "                                    host=\"localhost\", \n",
    "                                    port=\"5432\"\n",
    "                                )\n",
    "cursor = connection.cursor()\n",
    "\n",
    "cursor.execute('''SELECT user_id,\n",
    "                    UPPER(user_first_name || ' ' || user_last_name) AS user_name,\n",
    "                    user_email_id,\n",
    "                    created_ts,\n",
    "                    EXTRACT(YEAR FROM created_ts) AS created_year\n",
    "                    FROM users\n",
    "                    WHERE EXTRACT(YEAR FROM created_ts) = 2019\n",
    "                    ORDER BY user_name ASC;''')\n",
    "\n",
    "rows = cursor.fetchall()\n",
    "\n",
    "for row in rows:\n",
    "        user_id = row[0]\n",
    "        user_name = row[1]\n",
    "        user_email_id = row[2]\n",
    "        created_ts = row[3]\n",
    "        created_year = row[4]\n",
    "        print(f\"User ID: {user_id}, User Name: {user_name}, Email ID: {user_email_id}, Created Timestamp: {created_ts}, Created Year: {created_year}\")\n",
    "\n",
    "\n",
    "connection.commit()\n",
    "connection.close()"
   ]
  },
  {
   "cell_type": "markdown",
   "metadata": {},
   "source": [
    "### Punto 4.9."
   ]
  },
  {
   "cell_type": "markdown",
   "metadata": {},
   "source": [
    "Obtenga el número de usuarios por género. Utilice la tabla de users para este ejercicio."
   ]
  },
  {
   "cell_type": "markdown",
   "metadata": {},
   "source": [
    "- La salida debe contener el gender y user_count.\n",
    "\n",
    "- Para los hombres la salida debe mostrar Male y para las mujeres la salida debe mostrar Female.\n",
    "\n",
    "- Si no se especifica el sexo, se mostrará Not Specified\n",
    "\n",
    "- Los datos deben ordenarse en forma descendente por user_count."
   ]
  },
  {
   "cell_type": "code",
   "execution_count": 15,
   "metadata": {},
   "outputs": [
    {
     "name": "stdout",
     "output_type": "stream",
     "text": [
      "Gender: Female, User Count: 13\n",
      "Gender: Male, User Count: 10\n",
      "Gender: Not Specified, User Count: 2\n"
     ]
    }
   ],
   "source": [
    "import psycopg2\n",
    "\n",
    "connection = psycopg2.connect(database=\"julian_acevedo_db\",  \n",
    "                                    user=\"julian_acevedo_user\", \n",
    "                                    password=\"password\", \n",
    "                                    host=\"localhost\", \n",
    "                                    port=\"5432\"\n",
    "                                )\n",
    "cursor = connection.cursor()\n",
    "\n",
    "cursor.execute('''SELECT \n",
    "               CASE \n",
    "                    WHEN user_gender = 'M' THEN 'Male'\n",
    "                    WHEN user_gender = 'F' THEN 'Female'\n",
    "                    ELSE 'Not Specified'\n",
    "                END AS formatted_gender,\n",
    "                COUNT(*) AS user_count\n",
    "                FROM users\n",
    "                GROUP BY formatted_gender\n",
    "                ORDER BY user_count DESC''')\n",
    "\n",
    "rows = cursor.fetchall()\n",
    "\n",
    "for row in rows:\n",
    "        formatted_gender = row[0]\n",
    "        user_count = row[1]\n",
    "        print(f\"Gender: {formatted_gender}, User Count: {user_count}\")\n",
    "\n",
    "\n",
    "connection.commit()\n",
    "connection.close()"
   ]
  },
  {
   "cell_type": "markdown",
   "metadata": {},
   "source": [
    "### Punto 4.10."
   ]
  },
  {
   "cell_type": "markdown",
   "metadata": {},
   "source": [
    "Obtenga los 4 últimos dígitos de los ids únicos."
   ]
  },
  {
   "cell_type": "markdown",
   "metadata": {},
   "source": [
    "- Utilice la tabla users para este ejercicio.\n",
    "\n",
    "- El resultado debe contener user_id, user_unique_id y user_unique_id_last4.\n",
    "\n",
    "- Los identificadores únicos son null o not null.\n",
    "\n",
    "- Los identificadores únicos contienen números y guiones y son de diferente longitud.\n",
    "\n",
    "- Necesitamos obtener los últimos 4 dígitos descartando los guiones sólo cuando el número de dígitos es al menos 9.\n",
    "\n",
    "- Si el identificador único es nulo, debe mostrarse Not Specified.\n",
    "\n",
    "- Después de descartar los guiones, si el identificador único tiene menos de 9 dígitos, debe mostrar Invalid Unique Id.\n",
    "\n",
    "- Los datos deben ordenarse por user_id. Es posible que aparezca None o null para aquellos identificadores de usuario en los que no haya un identificador único para user_unique_id."
   ]
  },
  {
   "cell_type": "code",
   "execution_count": 16,
   "metadata": {},
   "outputs": [
    {
     "name": "stdout",
     "output_type": "stream",
     "text": [
      "User ID: 1, Unique ID: 88833-8759, Last 4 Digits: 8759\n",
      "User ID: 2, Unique ID: 262501-029, Last 4 Digits: 1029\n",
      "User ID: 3, Unique ID: 391-33-2823, Last 4 Digits: 2823\n",
      "User ID: 4, Unique ID: 1195413-80, Last 4 Digits: 1380\n",
      "User ID: 5, Unique ID: 471-24-6869, Last 4 Digits: 6869\n",
      "User ID: 6, Unique ID: 192374-933, Last 4 Digits: 4933\n",
      "User ID: 7, Unique ID: 749-27-47-52, Last 4 Digits: 4752\n",
      "User ID: 8, Unique ID: 461-75-4198, Last 4 Digits: 4198\n",
      "User ID: 9, Unique ID: 892-36-676-2, Last 4 Digits: 6762\n",
      "User ID: 10, Unique ID: 197-54-1646, Last 4 Digits: 1646\n",
      "User ID: 11, Unique ID: 232-55-52-58, Last 4 Digits: 5258\n",
      "User ID: 12, Unique ID: 898-84-336-6, Last 4 Digits: 3366\n",
      "User ID: 13, Unique ID: 247-95-68-44, Last 4 Digits: 6844\n",
      "User ID: 14, Unique ID: 415-48-894-3, Last 4 Digits: 8943\n",
      "User ID: 15, Unique ID: 403-39-5-869, Last 4 Digits: 5869\n",
      "User ID: 16, Unique ID: 399-83-05-03, Last 4 Digits: 0503\n",
      "User ID: 17, Unique ID: 607-99-0411, Last 4 Digits: 0411\n",
      "User ID: 18, Unique ID: 430-01-578-5, Last 4 Digits: 5785\n",
      "User ID: 19, Unique ID: 571-09-6181, Last 4 Digits: 6181\n",
      "User ID: 20, Unique ID: 478-32-02-87, Last 4 Digits: 0287\n",
      "User ID: 21, Unique ID: None, Last 4 Digits: Not Specified\n",
      "User ID: 22, Unique ID: None, Last 4 Digits: Not Specified\n",
      "User ID: 23, Unique ID: 830-40-5287, Last 4 Digits: 5287\n",
      "User ID: 24, Unique ID: 778-0845, Last 4 Digits: Invalid Unique Id\n",
      "User ID: 25, Unique ID: 368-44-4478, Last 4 Digits: 4478\n"
     ]
    }
   ],
   "source": [
    "import psycopg2\n",
    "\n",
    "connection = psycopg2.connect(database=\"julian_acevedo_db\",  \n",
    "                                    user=\"julian_acevedo_user\", \n",
    "                                    password=\"password\", \n",
    "                                    host=\"localhost\", \n",
    "                                    port=\"5432\"\n",
    "                                )\n",
    "cursor = connection.cursor()\n",
    "\n",
    "cursor.execute('''SELECT user_id,\n",
    "                    user_unique_id,\n",
    "                    CASE \n",
    "                        WHEN user_unique_id IS NULL THEN 'Not Specified'\n",
    "                        WHEN LENGTH(REPLACE(user_unique_id, '-', '')) < 9 THEN 'Invalid Unique Id'\n",
    "                        ELSE RIGHT(REPLACE(user_unique_id, '-', ''), 4)\n",
    "                    END AS user_unique_id_last4\n",
    "                  FROM users\n",
    "                  ORDER BY user_id''')\n",
    "\n",
    "rows = cursor.fetchall()\n",
    "\n",
    "for row in rows:\n",
    "        user_id = row[0]\n",
    "        user_unique_id = row[1]\n",
    "        user_unique_id_last4 = row[2]\n",
    "        print(f\"User ID: {user_id}, Unique ID: {user_unique_id}, Last 4 Digits: {user_unique_id_last4}\")\n",
    "\n",
    "\n",
    "connection.commit()\n",
    "connection.close()"
   ]
  },
  {
   "cell_type": "markdown",
   "metadata": {},
   "source": [
    "### Punto 4.11."
   ]
  },
  {
   "cell_type": "markdown",
   "metadata": {},
   "source": [
    "Obtenga el recuento de usuarios en función del código de país."
   ]
  },
  {
   "cell_type": "markdown",
   "metadata": {},
   "source": [
    "- Utilice la tabla users para este ejercicio.\n",
    "\n",
    "- La salida debe contener el código de país y el recuento.\n",
    "\n",
    "- No debe haber ningún + en el código de país. Sólo debe contener dígitos.\n",
    "\n",
    "- Los datos deben ordenarse como números por código de país.\n",
    "\n",
    "- Debemos descartar user_phone_no con valores null."
   ]
  },
  {
   "cell_type": "code",
   "execution_count": 17,
   "metadata": {},
   "outputs": [
    {
     "name": "stdout",
     "output_type": "stream",
     "text": [
      "Country Code: 86, User Count: 4\n",
      "Country Code: 84, User Count: 1\n",
      "Country Code: 81, User Count: 1\n",
      "Country Code: 7, User Count: 2\n",
      "Country Code: 63, User Count: 1\n",
      "Country Code: 62, User Count: 3\n",
      "Country Code: 598, User Count: 1\n",
      "Country Code: 55, User Count: 1\n",
      "Country Code: 54, User Count: 1\n",
      "Country Code: 48, User Count: 1\n",
      "Country Code: 420, User Count: 1\n",
      "Country Code: 380, User Count: 1\n",
      "Country Code: 370, User Count: 1\n",
      "Country Code: 351, User Count: 1\n",
      "Country Code: 249, User Count: 1\n",
      "Country Code: 229, User Count: 1\n",
      "Country Code: 1, User Count: 1\n"
     ]
    }
   ],
   "source": [
    "import psycopg2\n",
    "\n",
    "connection = psycopg2.connect(database=\"julian_acevedo_db\",  \n",
    "                                    user=\"julian_acevedo_user\", \n",
    "                                    password=\"password\", \n",
    "                                    host=\"localhost\", \n",
    "                                    port=\"5432\"\n",
    "                                )\n",
    "cursor = connection.cursor()\n",
    "\n",
    "cursor.execute('''SELECT SUBSTRING(user_phone_no FROM '^\\\\+([0-9]+)') country_code, \n",
    "                  COUNT(*) AS user_count\n",
    "                  FROM users\n",
    "                  WHERE user_phone_no IS NOT NULL AND user_phone_no ~ '^\\\\+[0-9]+'\n",
    "                  GROUP BY country_code\n",
    "                  ORDER BY country_code DESC''')\n",
    "\n",
    "rows = cursor.fetchall()\n",
    "#print(rows)\n",
    "for row in rows:\n",
    "         country_code = row[0]\n",
    "         user_count = row[1]\n",
    "         print(f\"Country Code: {country_code}, User Count: {user_count}\")\n",
    "\n",
    "connection.commit()\n",
    "connection.close()"
   ]
  }
 ],
 "metadata": {
  "kernelspec": {
   "display_name": "ml_venv",
   "language": "python",
   "name": "python3"
  },
  "language_info": {
   "codemirror_mode": {
    "name": "ipython",
    "version": 3
   },
   "file_extension": ".py",
   "mimetype": "text/x-python",
   "name": "python",
   "nbconvert_exporter": "python",
   "pygments_lexer": "ipython3",
   "version": "3.9.17"
  }
 },
 "nbformat": 4,
 "nbformat_minor": 2
}